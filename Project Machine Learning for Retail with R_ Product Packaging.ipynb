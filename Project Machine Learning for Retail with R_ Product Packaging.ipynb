{
 "cells": [
  {
   "cell_type": "markdown",
   "metadata": {},
   "source": [
    "## Create Next Best Offering to Drive Revenue and Loyalty\n",
    "DQLab.id Fashion adalah sebuah toko fashion yang menjual berbagai produk seperti jeans, kemeja, kosmetik, dan lain-lain. Walaupun cukup berkembang, namun dengan semakin banyaknya kompetitor dan banyak produk yang stoknya masih banyak tentunya membuat kuatir Pak Agus, manajer DQLab.id Fashion. \n",
    "\n",
    "Salah satu solusi adalah membuat paket yang inovatif. Dimana produk yang sebelumnya tidak terlalu laku tapi punya pangsa pasar malah bisa dipaketkan dan laku.\n",
    "\n",
    "Sebagai seorang data scientist, akan ditugaskan membantu Pak Agus untuk mengidentifikasi paket produk yang menarik untuk dipaketkan sehingga akhirnya bisa meningkatkan keuntungan dan loyalitas para pelanggan DQLab.id Fashion. Dan untuk mewujudkan ini, kita akan menggunakan R dan algoritma aproriari dari paket arules di sepanjang project ini."
   ]
  },
  {
   "cell_type": "markdown",
   "metadata": {},
   "source": [
    "## Dataset Transaksi Penjualan DQLab.id Fashion\n",
    "Untuk memulai project ini, Pak Agus meminta Pak Charlie, data engineer dari DQLab.id Fashion memberikan data transaksi 3 bulan kepada Anda dalam bentuk format TSV (Tab Separated Value) dengan nama transaksi_dqlab_retail.tsv dengan jumlah baris 33,669 baris data (3,450 kode transaksi)."
   ]
  },
  {
   "cell_type": "markdown",
   "metadata": {},
   "source": [
    "Data transaksi ini telah dirapikan untuk Anda dengan hanya mengandung dua variable, yaitu:\n",
    "\n",
    "- Kode Transaksi\n",
    "- Nama Produk\n",
    "\n",
    "Variable lain seperti harga, tanggal, jumlah pembelian, dan lain-lain – tidak dimasukkan sesuai permintaan pihak DQLab.id Academy kepada DQLab.id Fashion dengan alasan dua variable tersebut sudah cukup."
   ]
  },
  {
   "cell_type": "markdown",
   "metadata": {},
   "source": [
    "## Petunjuk Penyelesaian Project\n",
    "Project ini terdiri dari 3 soal, yaitu:\n",
    "\n",
    "- Mendapatkan insight top 10 dan bottom 10 dari produk yang terjual.\n",
    "- Mendapatkan daftar seluruh kombinasi paket produk dengan korelasi yang kuat.\n",
    "- Mendapatkan daftar seluruh kombinasi paket produk dengan item tertentu.\n",
    "\n",
    "Tiap soal memerlukan input dataset yang telah dijelaskan pada subbab sebelumnya. Setelah diproses maka Anda perlu menuliskan dalam nama file sesuai petunjuk."
   ]
  },
  {
   "cell_type": "markdown",
   "metadata": {},
   "source": [
    "## Output Awal: Statistik Top 10\n",
    "Tahap pertama sebenarnya yang diinginkan oleh Pak Agus adalah melihat apakah Anda mampu memberikan info top 10 dari dataset transaksi yang diberikan."
   ]
  },
  {
   "cell_type": "code",
   "execution_count": null,
   "metadata": {},
   "outputs": [],
   "source": [
    "library(arules)"
   ]
  },
  {
   "cell_type": "code",
   "execution_count": 27,
   "metadata": {},
   "outputs": [
    {
     "data": {
      "text/plain": [
       "transactions in sparse format with\n",
       " 3450 transactions (rows) and\n",
       " 69 items (columns)"
      ]
     },
     "metadata": {},
     "output_type": "display_data"
    }
   ],
   "source": [
    "transaksi<- read.transactions(file=\"transaksi_dqlab_retail.tsv\", format=\"single\", sep=\"\\t\", cols=c(1,2), skip=1)\n",
    "transaksi"
   ]
  },
  {
   "cell_type": "code",
   "execution_count": 28,
   "metadata": {},
   "outputs": [
    {
     "name": "stdout",
     "output_type": "stream",
     "text": [
      "                 Nama.Produk Jumlah\n",
      "1               Shampo Biasa   2075\n",
      "2              Serum Vitamin   1685\n",
      "3          Baju Batik Wanita   1312\n",
      "4          Baju Kemeja Putih   1255\n",
      "5       Celana Jogger Casual   1136\n",
      "6                Cover Koper   1086\n",
      "7         Sepatu Sandal Anak   1062\n",
      "8  Tali Pinggang Gesper Pria   1003\n",
      "9        Sepatu Sport merk Z    888\n",
      "10              Wedges Hitam    849\n"
     ]
    }
   ],
   "source": [
    "data_item <- itemFrequency(transaksi, type='absolute')\n",
    "data_item <- sort(data_item, decreasing = TRUE)\n",
    "data_item <- data_item[1:10]\n",
    "data_item <- data.frame(\"Nama Produk\"=names(data_item), \"Jumlah\"=data_item, row.names=NULL)\n",
    "print(data_item)"
   ]
  },
  {
   "cell_type": "markdown",
   "metadata": {},
   "source": [
    "## Output Awal: Statistik Bottom 10\n",
    "Tahap berikutnya adalah Anda harus bisa memberikan informasi bottom 10 dari dataset transaksi yang diberikan.\n",
    "\n",
    "Tahap pertama sebenarnya yang diinginkan oleh Pak Agus adalah melihat apakah Anda mampu memberikan info top 10 dari dataset transaksi yang diberikan."
   ]
  },
  {
   "cell_type": "code",
   "execution_count": 30,
   "metadata": {},
   "outputs": [
    {
     "name": "stdout",
     "output_type": "stream",
     "text": [
      "                  Nama.Produk Jumlah\n",
      "1     Celana Jeans Sobek Pria      9\n",
      "2                Tas Kosmetik     11\n",
      "3                Stripe Pants     19\n",
      "4                    Pelembab     24\n",
      "5      Tali Ban Ikat Pinggang     27\n",
      "6  Baju Renang Pria Anak-anak     32\n",
      "7                    Hair Dye     46\n",
      "8          Atasan Baju Belang     56\n",
      "9  Tas Sekolah Anak Perempuan     71\n",
      "10              Dompet Unisex     75\n"
     ]
    }
   ],
   "source": [
    "data_bottom <- itemFrequency(transaksi, type=\"absolute\")\n",
    "data_bottom <- sort(data_bottom, decreasing=FALSE)\n",
    "data_bottom <- data_bottom[1:10]\n",
    "data_bottom <- data.frame(\"Nama Produk\"=names(data_bottom), \"Jumlah\"=data_bottom, row.names=NULL)\n",
    "print(data_bottom)"
   ]
  },
  {
   "cell_type": "markdown",
   "metadata": {},
   "source": [
    "## Mendapatkan Kombinasi Produk yang menarik\n",
    "Setelah yakin Anda dapat melakukannya Pak Agus ingin Anda mengirimkan file yang berisi daftar 10 paket kombinasi produk yang paling \"menarik\".\n",
    "\n",
    "Anda pertamanya bingung, apa sih definisi menarik versi Pak Agus ini. Setelah wawancara intensif, ternyata pengertiannya adalah sebagai berikut:\n",
    "\n",
    "Memiliki asosiasi atau hubungan erat.\n",
    "Kombinasi produk minimal 2 item, dan maksimum 3 item.\n",
    "Kombinasi produk itu muncul setidaknya 10 dari dari seluruh transaksi.\n",
    "Memiliki tingkat confidence minimal 50 persen."
   ]
  },
  {
   "cell_type": "code",
   "execution_count": 31,
   "metadata": {},
   "outputs": [
    {
     "name": "stdout",
     "output_type": "stream",
     "text": [
      "Apriori\n",
      "\n",
      "Parameter specification:\n",
      " confidence minval smax arem  aval originalSupport maxtime     support minlen\n",
      "        0.5    0.1    1 none FALSE            TRUE       5 0.002898551      2\n",
      " maxlen target   ext\n",
      "      3  rules FALSE\n",
      "\n",
      "Algorithmic control:\n",
      " filter tree heap memopt load sort verbose\n",
      "    0.1 TRUE TRUE  FALSE TRUE    2    TRUE\n",
      "\n",
      "Absolute minimum support count: 10 \n",
      "\n",
      "set item appearances ...[0 item(s)] done [0.00s].\n",
      "set transactions ...[69 item(s), 3450 transaction(s)] done [0.00s].\n",
      "sorting and recoding items ... [68 item(s)] done [0.00s].\n",
      "creating transaction tree ... done [0.00s].\n",
      "checking subsets of size 1 2 3"
     ]
    },
    {
     "name": "stderr",
     "output_type": "stream",
     "text": [
      "Warning message in apriori(transaksi, parameter = list(supp = 10/nrow(transaksi), :\n",
      "\"Mining stopped (maxlen reached). Only patterns up to a length of 3 returned!\""
     ]
    },
    {
     "name": "stdout",
     "output_type": "stream",
     "text": [
      " done [0.01s].\n",
      "writing ... [4637 rule(s)] done [0.00s].\n",
      "creating S4 object  ... done [0.00s].\n",
      "     lhs                             rhs                              support confidence     lift count\n",
      "[1]  {Tas Makeup,                                                                                      \n",
      "      Tas Pinggang Wanita}        => {Baju Renang Anak Perempuan} 0.010434783  0.8780488 24.42958    36\n",
      "[2]  {Tas Makeup,                                                                                      \n",
      "      Tas Travel}                 => {Baju Renang Anak Perempuan} 0.010144928  0.8139535 22.64629    35\n",
      "[3]  {Tas Makeup,                                                                                      \n",
      "      Tas Ransel Mini}            => {Baju Renang Anak Perempuan} 0.011304348  0.7358491 20.47322    39\n",
      "[4]  {Sunblock Cream,                                                                                  \n",
      "      Tas Pinggang Wanita}        => {Kuas Makeup }               0.016231884  0.6913580 20.21343    56\n",
      "[5]  {Baju Renang Anak Perempuan,                                                                      \n",
      "      Tas Pinggang Wanita}        => {Tas Makeup}                 0.010434783  0.8000000 19.57447    36\n",
      "[6]  {Baju Renang Anak Perempuan,                                                                      \n",
      "      Tas Ransel Mini}            => {Tas Makeup}                 0.011304348  0.7959184 19.47460    39\n",
      "[7]  {Baju Renang Anak Perempuan,                                                                      \n",
      "      Celana Pendek Green/Hijau}  => {Tas Makeup}                 0.010144928  0.7777778 19.03073    35\n",
      "[8]  {Tas Makeup,                                                                                      \n",
      "      Tas Waist Bag}              => {Baju Renang Anak Perempuan} 0.004347826  0.6818182 18.96994    15\n",
      "[9]  {Celana Pendek Green/Hijau,                                                                       \n",
      "      Tas Makeup}                 => {Baju Renang Anak Perempuan} 0.010144928  0.6730769 18.72674    35\n",
      "[10] {Dompet Flip Cover,                                                                               \n",
      "      Sunblock Cream}             => {Kuas Makeup }               0.016231884  0.6292135 18.39650    56\n"
     ]
    }
   ],
   "source": [
    "mba <- apriori(transaksi, parameter = list(supp=10/nrow(transaksi), minlen=2, maxlen=3, confidence=0.5))\n",
    "               \n",
    "data <- sort(mba, by='lift', decreasing = TRUE)\n",
    "data <- data[1:10]\n",
    "inspect(data)"
   ]
  },
  {
   "cell_type": "code",
   "execution_count": 35,
   "metadata": {},
   "outputs": [],
   "source": [
    "write(data, file=\"kombinasi_retail.txt\")"
   ]
  },
  {
   "cell_type": "markdown",
   "metadata": {},
   "source": [
    "## Mencari Paket Produk yang bisa dipasangkan dengan Item Slow-Moving\n",
    "Slow-moving item adalah produk yang pergerakan penjualannya lambat atau kurang cepat. Ini akan bermasalah apabila item produk tersebut masih menumpuk.\n",
    "\n",
    "Kadang kala item ini belum tentu tidak laku, hanya saja mungkin harganya tidak bagus dan jarang dibutuhkan jika dijual satuan.  Nah, jika tidak dijual satuan kita perlu cari asosiasi kuat dari item produk ini dengan produk lain sehingga jika dipaketkan akan menjadi lebih menarik.\n",
    "\n",
    "Pak Agus juga meyakini hal ini, dan ingin agar Anda membantu mengidentifikasi dua item produk yang menurut dia stoknya masih banyak dan perlu dicari pasangan item untuk pemaketannya.\n",
    "\n",
    "Dua item produk tersebut adalah \"Tas Makeup\" dan \"Baju Renang Pria Anak-anak\". Pak Agus ingin meminta kombinasi yang bisa dipaketkan dengan kedua produk tersebut.\n",
    "\n",
    "Masing-masing produk tersebut dikeluarkan 3 rules yang asosiasinya paling kuat, sehingga total ada 6 rules. Persyaratan-persyaratan asosiasi kuat ini masih sama dengan yang telah disebutkan Pak Agus sebelumnya, kecuali tingkat confidence dicoba pada tingkat minimal 0.1."
   ]
  },
  {
   "cell_type": "code",
   "execution_count": 37,
   "metadata": {},
   "outputs": [
    {
     "name": "stdout",
     "output_type": "stream",
     "text": [
      "Apriori\n",
      "\n",
      "Parameter specification:\n",
      " confidence minval smax arem  aval originalSupport maxtime     support minlen\n",
      "        0.1    0.1    1 none FALSE            TRUE       5 0.002898551      2\n",
      " maxlen target   ext\n",
      "      3  rules FALSE\n",
      "\n",
      "Algorithmic control:\n",
      " filter tree heap memopt load sort verbose\n",
      "    0.1 TRUE TRUE  FALSE TRUE    2    TRUE\n",
      "\n",
      "Absolute minimum support count: 10 \n",
      "\n",
      "set item appearances ...[0 item(s)] done [0.00s].\n",
      "set transactions ...[69 item(s), 3450 transaction(s)] done [0.00s].\n",
      "sorting and recoding items ... [68 item(s)] done [0.00s].\n",
      "creating transaction tree ... done [0.00s].\n",
      "checking subsets of size 1 2 3"
     ]
    },
    {
     "name": "stderr",
     "output_type": "stream",
     "text": [
      "Warning message in apriori(transaksi, parameter = list(supp = 10/nrow(transaksi), :\n",
      "\"Mining stopped (maxlen reached). Only patterns up to a length of 3 returned!\""
     ]
    },
    {
     "name": "stdout",
     "output_type": "stream",
     "text": [
      " done [0.01s].\n",
      "writing ... [39832 rule(s)] done [0.01s].\n",
      "creating S4 object  ... done [0.02s].\n",
      "    lhs                             rhs                              support confidence     lift count\n",
      "[1] {Baju Renang Anak Perempuan,                                                                      \n",
      "     Tas Pinggang Wanita}        => {Tas Makeup}                 0.010434783  0.8000000 19.57447    36\n",
      "[2] {Baju Renang Anak Perempuan,                                                                      \n",
      "     Tas Ransel Mini}            => {Tas Makeup}                 0.011304348  0.7959184 19.47460    39\n",
      "[3] {Baju Renang Anak Perempuan,                                                                      \n",
      "     Celana Pendek Green/Hijau}  => {Tas Makeup}                 0.010144928  0.7777778 19.03073    35\n",
      "[4] {Gembok Koper,                                                                                    \n",
      "     Tas Waist Bag}              => {Baju Renang Pria Anak-anak} 0.004057971  0.2745098 29.59559    14\n",
      "[5] {Flat Shoes Ballerina,                                                                            \n",
      "     Gembok Koper}               => {Baju Renang Pria Anak-anak} 0.004057971  0.1866667 20.12500    14\n",
      "[6] {Celana Jeans Sobek Wanita,                                                                       \n",
      "     Jeans Jumbo}                => {Baju Renang Pria Anak-anak} 0.005507246  0.1210191 13.04737    19\n"
     ]
    }
   ],
   "source": [
    "transaksi_slow <- apriori(transaksi, parameter = list(supp=10/nrow(transaksi), minlen=2, maxlen=3, confidence=0.1))\n",
    "\n",
    "slow_move1 <- subset(transaksi_slow, rhs %in% 'Tas Makeup' & lift>1)\n",
    "slow_move1 <- sort(slow_move1, by='lift', decreasing = TRUE)[1:3]\n",
    "\n",
    "slow_move2 <- subset(transaksi_slow, rhs %in% 'Baju Renang Pria Anak-anak' & lift>1)\n",
    "slow_move2 <- sort(slow_move2, by='lift', decreasing = TRUE)[1:3]\n",
    "\n",
    "slow_move <- c(slow_move1,slow_move2)\n",
    "inspect(slow_move)\n"
   ]
  },
  {
   "cell_type": "code",
   "execution_count": 38,
   "metadata": {},
   "outputs": [],
   "source": [
    "write(slow_move,file= \"kombinasi_retail_slow_moving.txt\")"
   ]
  },
  {
   "cell_type": "code",
   "execution_count": null,
   "metadata": {},
   "outputs": [],
   "source": []
  }
 ],
 "metadata": {
  "kernelspec": {
   "display_name": "Python 3",
   "language": "python",
   "name": "python3"
  },
  "language_info": {
   "codemirror_mode": {
    "name": "ipython",
    "version": 3
   },
   "file_extension": ".py",
   "mimetype": "text/x-python",
   "name": "python",
   "nbconvert_exporter": "python",
   "pygments_lexer": "ipython3",
   "version": "3.7.7"
  }
 },
 "nbformat": 4,
 "nbformat_minor": 4
}
